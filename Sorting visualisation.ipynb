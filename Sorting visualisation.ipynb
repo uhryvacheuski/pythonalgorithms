{
 "cells": [
  {
   "cell_type": "code",
   "execution_count": 186,
   "metadata": {},
   "outputs": [],
   "source": [
    "import numpy as np\n",
    "import os\n",
    "from IPython.display import clear_output\n",
    "import time\n"
   ]
  },
  {
   "cell_type": "code",
   "execution_count": 216,
   "metadata": {},
   "outputs": [],
   "source": [
    "def find_smallest(my_list):\n",
    "    smallest = my_list[0]\n",
    "    smallest_index = 0\n",
    "    for i in range(1,len(my_list)):\n",
    "        if my_list[i] < smallest:\n",
    "            smallest = my_list[i]\n",
    "            smallest_index = i\n",
    "    return smallest_index\n",
    "    \n",
    "def selection_sort(my_list):\n",
    "    show_array(my_list)\n",
    "    new_list = []\n",
    "    for i in range(len(my_list)):\n",
    "        smallest = find_smallest(my_list)\n",
    "        new_list.append(my_list.pop(smallest))\n",
    "        show_array(new_list)\n",
    "    return new_list\n",
    "\n",
    "def quick_sort(my_list):\n",
    "    show_array(my_list)\n",
    "    if len(my_list) < 2:\n",
    "        show_array(my_list)\n",
    "        return my_list\n",
    "    else:\n",
    "        pivot = my_list[0]\n",
    "        less = [i for i in my_list[1:] if i <= pivot]\n",
    "        greater = [i for i in my_list[1:] if i > pivot]\n",
    "        show_array(my_list)\n",
    "        return quick_sort(less) + [pivot] + quick_sort(greater)\n",
    "\n",
    "def show_array(random_nums):\n",
    "    time.sleep(50 / 1000)\n",
    "    clear_output(wait=True)\n",
    "    for i, num in enumerate(random_nums):\n",
    "        print(\"index: \"+str(i)+\", value:\"+str(num)+\":\"+\"*\"*num)\n",
    "        time.sleep(50 / 1000)  "
   ]
  },
  {
   "cell_type": "code",
   "execution_count": 151,
   "metadata": {},
   "outputs": [],
   "source": [
    "def my_binary_search(my_list, to_find):\n",
    "    low = 0\n",
    "    high = len(my_list) - 1\n",
    "    \n",
    "    while low <= high:\n",
    "        mid = (low + high)//2\n",
    "        guess = my_list[mid]\n",
    "        if guess == to_find:\n",
    "            return mid\n",
    "        if guess > to_find:\n",
    "            high = mid - 1\n",
    "        else:\n",
    "            low = mid + 1\n",
    "    return None"
   ]
  },
  {
   "cell_type": "code",
   "execution_count": 219,
   "metadata": {},
   "outputs": [
    {
     "name": "stdout",
     "output_type": "stream",
     "text": [
      "5\n"
     ]
    }
   ],
   "source": [
    "LOWER_BOUND = 1\n",
    "UPPER_BOUND = 30\n",
    "NUM = 10\n",
    "\n",
    "my_nums = [1, 2, 3, 4, 5, 6,7]\n",
    "print(my_binary_search(my_nums,6))"
   ]
  },
  {
   "cell_type": "code",
   "execution_count": 218,
   "metadata": {},
   "outputs": [
    {
     "name": "stdout",
     "output_type": "stream",
     "text": [
      "[25, 18, 19, 13, 21, 24, 1, 13, 22, 11, 11, 20, 28, 28, 25]\n"
     ]
    }
   ],
   "source": [
    "random_nums = list(np.random.randint(LOWER_BOUND,UPPER_BOUND,NUM))\n",
    "print(random_nums)\n"
   ]
  },
  {
   "cell_type": "code",
   "execution_count": 222,
   "metadata": {},
   "outputs": [
    {
     "name": "stdout",
     "output_type": "stream",
     "text": [
      "index: 0, value:1:*\n",
      "index: 1, value:11:***********\n",
      "index: 2, value:11:***********\n",
      "index: 3, value:13:*************\n",
      "index: 4, value:13:*************\n",
      "index: 5, value:18:******************\n",
      "index: 6, value:19:*******************\n",
      "index: 7, value:20:********************\n",
      "index: 8, value:21:*********************\n",
      "index: 9, value:22:**********************\n",
      "index: 10, value:24:************************\n",
      "index: 11, value:25:*************************\n",
      "index: 12, value:25:*************************\n",
      "index: 13, value:28:****************************\n",
      "index: 14, value:28:****************************\n"
     ]
    },
    {
     "data": {
      "text/plain": [
       "[1, 11, 11, 13, 13, 18, 19, 20, 21, 22, 24, 25, 25, 28, 28]"
      ]
     },
     "execution_count": 222,
     "metadata": {},
     "output_type": "execute_result"
    }
   ],
   "source": [
    "selection_sort(random_nums)"
   ]
  },
  {
   "cell_type": "code",
   "execution_count": 221,
   "metadata": {},
   "outputs": [
    {
     "name": "stdout",
     "output_type": "stream",
     "text": [
      "index: 0, value:1:*\n",
      "index: 1, value:11:***********\n",
      "index: 2, value:11:***********\n",
      "index: 3, value:13:*************\n",
      "index: 4, value:13:*************\n",
      "index: 5, value:18:******************\n",
      "index: 6, value:19:*******************\n",
      "index: 7, value:20:********************\n",
      "index: 8, value:21:*********************\n",
      "index: 9, value:22:**********************\n",
      "index: 10, value:24:************************\n",
      "index: 11, value:25:*************************\n",
      "index: 12, value:25:*************************\n",
      "index: 13, value:28:****************************\n",
      "index: 14, value:28:****************************\n"
     ]
    }
   ],
   "source": [
    "show_array(quick_sort(random_nums))"
   ]
  },
  {
   "cell_type": "code",
   "execution_count": null,
   "metadata": {},
   "outputs": [],
   "source": []
  }
 ],
 "metadata": {
  "kernelspec": {
   "display_name": "Python 3",
   "language": "python",
   "name": "python3"
  },
  "language_info": {
   "codemirror_mode": {
    "name": "ipython",
    "version": 3
   },
   "file_extension": ".py",
   "mimetype": "text/x-python",
   "name": "python",
   "nbconvert_exporter": "python",
   "pygments_lexer": "ipython3",
   "version": "3.7.6"
  }
 },
 "nbformat": 4,
 "nbformat_minor": 4
}
