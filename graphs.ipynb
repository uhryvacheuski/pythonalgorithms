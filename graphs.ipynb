{
 "cells": [
  {
   "cell_type": "code",
   "execution_count": 187,
   "metadata": {},
   "outputs": [],
   "source": [
    "import numpy as np\n",
    "from collections import deque "
   ]
  },
  {
   "cell_type": "markdown",
   "metadata": {},
   "source": [
    "Graph is a structure amounting to a set of objects in which some pairs of the objects are in some sense \"related\".\n",
    "\n",
    "We can crete graph in Python using dictionaries and list, where keys of dictionary are vertices of graph and keys are neighbours (of directed graph)"
   ]
  },
  {
   "cell_type": "code",
   "execution_count": 434,
   "metadata": {},
   "outputs": [],
   "source": [
    "class Graph:\n",
    "    def __init__(self, v_name, n_neighbours):\n",
    "        self.g = {}\n",
    "        self._vert_name = v_name\n",
    "        self._neighbours = n_neighbours\n",
    "        self.g[self._vert_name] = self._neighbours\n",
    "        \n",
    "    @property\n",
    "    def neighbours(self):\n",
    "        return self._neighbours\n",
    "    \n",
    "    def add_element(self,new_vert_name, new_neighbours):\n",
    "        self.g[new_vert_name] = new_neighbours\n",
    "        \n",
    "    def print_graph(self):\n",
    "        for v in self.g:\n",
    "            print(v, end=' -> ')\n",
    "            for n in self.g[v]:\n",
    "                print(n, end=', ')\n",
    "            print()\n",
    "     \n",
    "    #Breadth First Search\n",
    "    def is_path_exist(self, from_vert, to_vert):\n",
    "        self.search_queue = deque()\n",
    "        self.search_queue += self.g[from_vert]\n",
    "        self.searched = []\n",
    "        \n",
    "        while self.search_queue:\n",
    "            self.vert = self.search_queue.popleft()\n",
    "            if self.vert == to_vert:\n",
    "                return True\n",
    "            else:\n",
    "                try:\n",
    "                    self.search_queue +=self.g[self.vert]\n",
    "                    self.searched.append(self.vert)\n",
    "                except KeyError:\n",
    "                    print('Vert does not exist')\n",
    "        return False\n",
    "    \n",
    "class WeightedGraph():\n",
    "    def __init__(self, v_name, n_neighbours, weighs):\n",
    "        self.g[v_name] = {}\n",
    "        self.g[v_name]"
   ]
  },
  {
   "cell_type": "code",
   "execution_count": 431,
   "metadata": {},
   "outputs": [
    {
     "data": {
      "text/plain": [
       "True"
      ]
     },
     "execution_count": 431,
     "metadata": {},
     "output_type": "execute_result"
    }
   ],
   "source": [
    "my_graph = Graph('Aa',['Bb'])\n",
    "my_graph.add_element('Ab', [])\n",
    "my_graph.add_element('Ac', [])\n",
    "\n",
    "my_graph.add_element('Ba', [])\n",
    "my_graph.add_element('Bb', ['Ba','Ca'])\n",
    "my_graph.add_element('Bc', ['Ac'])\n",
    "\n",
    "my_graph.add_element('Ca', ['Cb'])\n",
    "my_graph.add_element('Cb', ['Bc','Cc'])\n",
    "my_graph.add_element('Cc', ['Bc'])\n",
    "\n",
    "my_graph.is_path_exist('Aa', 'Cc')"
   ]
  },
  {
   "cell_type": "code",
   "execution_count": 435,
   "metadata": {},
   "outputs": [],
   "source": [
    "my_w_g = WeightedGraph ('Aa',['Bb','Cc'],1)"
   ]
  },
  {
   "cell_type": "code",
   "execution_count": 436,
   "metadata": {},
   "outputs": [
    {
     "name": "stdout",
     "output_type": "stream",
     "text": [
      "Aa -> Bb, Cc, \n"
     ]
    }
   ],
   "source": [
    "my_w_g.print_graph()"
   ]
  },
  {
   "cell_type": "code",
   "execution_count": 480,
   "metadata": {},
   "outputs": [],
   "source": [
    "#creating nodes\n",
    "graph['start'] = {}\n",
    "graph['ny']= {}\n",
    "graph['ls']= {}\n",
    "\n",
    "\n",
    "\n",
    "#create connection with weight of X\n",
    "graph[\"start\"]['ny'] = 6\n",
    "graph[\"start\"]['ls'] = 8\n",
    "graph['ny']['ls'] = 15\n"
   ]
  },
  {
   "cell_type": "code",
   "execution_count": 484,
   "metadata": {},
   "outputs": [
    {
     "name": "stdout",
     "output_type": "stream",
     "text": [
      "dict_keys(['ny', 'ls'])\n"
     ]
    }
   ],
   "source": [
    "print(graph['start'].keys())"
   ]
  },
  {
   "cell_type": "code",
   "execution_count": 485,
   "metadata": {},
   "outputs": [
    {
     "data": {
      "text/plain": [
       "dict_keys(['ny', 'ls'])"
      ]
     },
     "execution_count": 485,
     "metadata": {},
     "output_type": "execute_result"
    }
   ],
   "source": [
    "graph['start'].keys() #neighbours"
   ]
  },
  {
   "cell_type": "code",
   "execution_count": 487,
   "metadata": {},
   "outputs": [
    {
     "data": {
      "text/plain": [
       "{'ny': 6, 'ls': 8}"
      ]
     },
     "execution_count": 487,
     "metadata": {},
     "output_type": "execute_result"
    }
   ],
   "source": [
    "graph['start']"
   ]
  },
  {
   "cell_type": "code",
   "execution_count": null,
   "metadata": {},
   "outputs": [],
   "source": []
  },
  {
   "cell_type": "code",
   "execution_count": null,
   "metadata": {},
   "outputs": [],
   "source": []
  }
 ],
 "metadata": {
  "kernelspec": {
   "display_name": "Python 3",
   "language": "python",
   "name": "python3"
  },
  "language_info": {
   "codemirror_mode": {
    "name": "ipython",
    "version": 3
   },
   "file_extension": ".py",
   "mimetype": "text/x-python",
   "name": "python",
   "nbconvert_exporter": "python",
   "pygments_lexer": "ipython3",
   "version": "3.7.6"
  }
 },
 "nbformat": 4,
 "nbformat_minor": 4
}
